{
  "nbformat": 4,
  "nbformat_minor": 0,
  "metadata": {
    "colab": {
      "provenance": [],
      "include_colab_link": true
    },
    "kernelspec": {
      "name": "python3",
      "display_name": "Python 3"
    },
    "language_info": {
      "name": "python"
    },
    "accelerator": "GPU",
    "gpuClass": "standard",
    "widgets": {
      "application/vnd.jupyter.widget-state+json": {
        "6a1aaf2f23444125bf0e2250cb0c7f9c": {
          "model_module": "@jupyter-widgets/controls",
          "model_name": "VBoxModel",
          "model_module_version": "1.5.0",
          "state": {
            "_dom_classes": [
              "widget-interact"
            ],
            "_model_module": "@jupyter-widgets/controls",
            "_model_module_version": "1.5.0",
            "_model_name": "VBoxModel",
            "_view_count": null,
            "_view_module": "@jupyter-widgets/controls",
            "_view_module_version": "1.5.0",
            "_view_name": "VBoxView",
            "box_style": "",
            "children": [
              "IPY_MODEL_695658044ed3487ead8be8636b535ff4",
              "IPY_MODEL_0400a5027bbf407ab794d4550de548d8",
              "IPY_MODEL_6502809cda03433eaf0912c276a0aad1",
              "IPY_MODEL_b74c39500f3b43e3bec0c1e357e89fb2",
              "IPY_MODEL_b7b9241ca5b24fdc8d1ea0d22ea04c95",
              "IPY_MODEL_3eaccc1e43e14f9ba227cb445645734b"
            ],
            "layout": "IPY_MODEL_f2d5186b3be74d59a84aeaaa8e960a34"
          }
        },
        "695658044ed3487ead8be8636b535ff4": {
          "model_module": "@jupyter-widgets/controls",
          "model_name": "DropdownModel",
          "model_module_version": "1.5.0",
          "state": {
            "_dom_classes": [],
            "_model_module": "@jupyter-widgets/controls",
            "_model_module_version": "1.5.0",
            "_model_name": "DropdownModel",
            "_options_labels": [
              "gini",
              "entropy"
            ],
            "_view_count": null,
            "_view_module": "@jupyter-widgets/controls",
            "_view_module_version": "1.5.0",
            "_view_name": "DropdownView",
            "description": "crit",
            "description_tooltip": null,
            "disabled": false,
            "index": 1,
            "layout": "IPY_MODEL_1bf74c9f61504fb4902c87e1ad1f5354",
            "style": "IPY_MODEL_072b43b58556410193c886828cf387ae"
          }
        },
        "0400a5027bbf407ab794d4550de548d8": {
          "model_module": "@jupyter-widgets/controls",
          "model_name": "DropdownModel",
          "model_module_version": "1.5.0",
          "state": {
            "_dom_classes": [],
            "_model_module": "@jupyter-widgets/controls",
            "_model_module_version": "1.5.0",
            "_model_name": "DropdownModel",
            "_options_labels": [
              "best",
              "random"
            ],
            "_view_count": null,
            "_view_module": "@jupyter-widgets/controls",
            "_view_module_version": "1.5.0",
            "_view_name": "DropdownView",
            "description": "split",
            "description_tooltip": null,
            "disabled": false,
            "index": 0,
            "layout": "IPY_MODEL_af241f22d8e24687b7764fc06ebbbeac",
            "style": "IPY_MODEL_552ef8134f014718a4d4c97362640a4a"
          }
        },
        "6502809cda03433eaf0912c276a0aad1": {
          "model_module": "@jupyter-widgets/controls",
          "model_name": "DropdownModel",
          "model_module_version": "1.5.0",
          "state": {
            "_dom_classes": [],
            "_model_module": "@jupyter-widgets/controls",
            "_model_module_version": "1.5.0",
            "_model_name": "DropdownModel",
            "_options_labels": [
              "1",
              "2",
              "3",
              "4",
              "5",
              "10",
              "20",
              "30"
            ],
            "_view_count": null,
            "_view_module": "@jupyter-widgets/controls",
            "_view_module_version": "1.5.0",
            "_view_name": "DropdownView",
            "description": "depth",
            "description_tooltip": null,
            "disabled": false,
            "index": 0,
            "layout": "IPY_MODEL_91ef4d8bd2bc46e897e85a3a3a1e58b5",
            "style": "IPY_MODEL_2141e457312d480aa24bad02fdeb7ca6"
          }
        },
        "b74c39500f3b43e3bec0c1e357e89fb2": {
          "model_module": "@jupyter-widgets/controls",
          "model_name": "IntSliderModel",
          "model_module_version": "1.5.0",
          "state": {
            "_dom_classes": [],
            "_model_module": "@jupyter-widgets/controls",
            "_model_module_version": "1.5.0",
            "_model_name": "IntSliderModel",
            "_view_count": null,
            "_view_module": "@jupyter-widgets/controls",
            "_view_module_version": "1.5.0",
            "_view_name": "IntSliderView",
            "continuous_update": true,
            "description": "min_samples_split",
            "description_tooltip": null,
            "disabled": false,
            "layout": "IPY_MODEL_70f507ce1ec04315b89c2c126e765674",
            "max": 5,
            "min": 1,
            "orientation": "horizontal",
            "readout": true,
            "readout_format": "d",
            "step": 1,
            "style": "IPY_MODEL_2e2bb40a9a0a40a993ef46c987b60a41",
            "value": 3
          }
        },
        "b7b9241ca5b24fdc8d1ea0d22ea04c95": {
          "model_module": "@jupyter-widgets/controls",
          "model_name": "IntSliderModel",
          "model_module_version": "1.5.0",
          "state": {
            "_dom_classes": [],
            "_model_module": "@jupyter-widgets/controls",
            "_model_module_version": "1.5.0",
            "_model_name": "IntSliderModel",
            "_view_count": null,
            "_view_module": "@jupyter-widgets/controls",
            "_view_module_version": "1.5.0",
            "_view_name": "IntSliderView",
            "continuous_update": true,
            "description": "min_samples_leaf",
            "description_tooltip": null,
            "disabled": false,
            "layout": "IPY_MODEL_22547927e0534c069d7f547057b3e44c",
            "max": 5,
            "min": 1,
            "orientation": "horizontal",
            "readout": true,
            "readout_format": "d",
            "step": 1,
            "style": "IPY_MODEL_1e4020083720445ca2025016c209d428",
            "value": 1
          }
        },
        "3eaccc1e43e14f9ba227cb445645734b": {
          "model_module": "@jupyter-widgets/output",
          "model_name": "OutputModel",
          "model_module_version": "1.0.0",
          "state": {
            "_dom_classes": [],
            "_model_module": "@jupyter-widgets/output",
            "_model_module_version": "1.0.0",
            "_model_name": "OutputModel",
            "_view_count": null,
            "_view_module": "@jupyter-widgets/output",
            "_view_module_version": "1.0.0",
            "_view_name": "OutputView",
            "layout": "IPY_MODEL_5daf6dd2306b4b8e9d89927af38429d1",
            "msg_id": "",
            "outputs": [
              {
                "output_type": "display_data",
                "data": {
                  "text/plain": "<IPython.core.display.SVG object>",
                  "image/svg+xml": "<svg xmlns=\"http://www.w3.org/2000/svg\" xmlns:xlink=\"http://www.w3.org/1999/xlink\" width=\"268pt\" height=\"195pt\" viewBox=\"0.00 0.00 268.00 195.00\">\n<g id=\"graph0\" class=\"graph\" transform=\"scale(1 1) rotate(0) translate(4 191)\">\n<title>Tree</title>\n<polygon fill=\"white\" stroke=\"transparent\" points=\"-4,4 -4,-191 264,-191 264,4 -4,4\"/>\n<!-- 0 -->\n<g id=\"node1\" class=\"node\">\n<title>0</title>\n<polygon fill=\"#f3c5a3\" stroke=\"black\" points=\"190,-187 65,-187 65,-104 190,-104 190,-187\"/>\n<text text-anchor=\"middle\" x=\"127.5\" y=\"-171.8\" font-family=\"Helvetica,sans-Serif\" font-size=\"14.00\">Glucose &lt;= 127.5</text>\n<text text-anchor=\"middle\" x=\"127.5\" y=\"-156.8\" font-family=\"Helvetica,sans-Serif\" font-size=\"14.00\">entropy = 0.933</text>\n<text text-anchor=\"middle\" x=\"127.5\" y=\"-141.8\" font-family=\"Helvetica,sans-Serif\" font-size=\"14.00\">samples = 768</text>\n<text text-anchor=\"middle\" x=\"127.5\" y=\"-126.8\" font-family=\"Helvetica,sans-Serif\" font-size=\"14.00\">value = [500, 268]</text>\n<text text-anchor=\"middle\" x=\"127.5\" y=\"-111.8\" font-family=\"Helvetica,sans-Serif\" font-size=\"14.00\">class = 0</text>\n</g>\n<!-- 1 -->\n<g id=\"node2\" class=\"node\">\n<title>1</title>\n<polygon fill=\"#eb9f69\" stroke=\"black\" points=\"117,-68 0,-68 0,0 117,0 117,-68\"/>\n<text text-anchor=\"middle\" x=\"58.5\" y=\"-52.8\" font-family=\"Helvetica,sans-Serif\" font-size=\"14.00\">entropy = 0.709</text>\n<text text-anchor=\"middle\" x=\"58.5\" y=\"-37.8\" font-family=\"Helvetica,sans-Serif\" font-size=\"14.00\">samples = 485</text>\n<text text-anchor=\"middle\" x=\"58.5\" y=\"-22.8\" font-family=\"Helvetica,sans-Serif\" font-size=\"14.00\">value = [391, 94]</text>\n<text text-anchor=\"middle\" x=\"58.5\" y=\"-7.8\" font-family=\"Helvetica,sans-Serif\" font-size=\"14.00\">class = 0</text>\n</g>\n<!-- 0&#45;&gt;1 -->\n<g id=\"edge1\" class=\"edge\">\n<title>0-&gt;1</title>\n<path fill=\"none\" stroke=\"black\" d=\"M101.81,-103.73C96.29,-94.97 90.45,-85.7 84.91,-76.91\"/>\n<polygon fill=\"black\" stroke=\"black\" points=\"87.78,-74.89 79.48,-68.3 81.85,-78.63 87.78,-74.89\"/>\n<text text-anchor=\"middle\" x=\"73.95\" y=\"-88.98\" font-family=\"Helvetica,sans-Serif\" font-size=\"14.00\">True</text>\n</g>\n<!-- 2 -->\n<g id=\"node3\" class=\"node\">\n<title>2</title>\n<polygon fill=\"#b5daf5\" stroke=\"black\" points=\"260,-68 135,-68 135,0 260,0 260,-68\"/>\n<text text-anchor=\"middle\" x=\"197.5\" y=\"-52.8\" font-family=\"Helvetica,sans-Serif\" font-size=\"14.00\">entropy = 0.962</text>\n<text text-anchor=\"middle\" x=\"197.5\" y=\"-37.8\" font-family=\"Helvetica,sans-Serif\" font-size=\"14.00\">samples = 283</text>\n<text text-anchor=\"middle\" x=\"197.5\" y=\"-22.8\" font-family=\"Helvetica,sans-Serif\" font-size=\"14.00\">value = [109, 174]</text>\n<text text-anchor=\"middle\" x=\"197.5\" y=\"-7.8\" font-family=\"Helvetica,sans-Serif\" font-size=\"14.00\">class = 1</text>\n</g>\n<!-- 0&#45;&gt;2 -->\n<g id=\"edge2\" class=\"edge\">\n<title>0-&gt;2</title>\n<path fill=\"none\" stroke=\"black\" d=\"M153.57,-103.73C159.16,-94.97 165.09,-85.7 170.71,-76.91\"/>\n<polygon fill=\"black\" stroke=\"black\" points=\"173.78,-78.61 176.21,-68.3 167.88,-74.84 173.78,-78.61\"/>\n<text text-anchor=\"middle\" x=\"181.59\" y=\"-89.02\" font-family=\"Helvetica,sans-Serif\" font-size=\"14.00\">False</text>\n</g>\n</g>\n</svg>"
                },
                "metadata": {}
              }
            ]
          }
        },
        "f2d5186b3be74d59a84aeaaa8e960a34": {
          "model_module": "@jupyter-widgets/base",
          "model_name": "LayoutModel",
          "model_module_version": "1.2.0",
          "state": {
            "_model_module": "@jupyter-widgets/base",
            "_model_module_version": "1.2.0",
            "_model_name": "LayoutModel",
            "_view_count": null,
            "_view_module": "@jupyter-widgets/base",
            "_view_module_version": "1.2.0",
            "_view_name": "LayoutView",
            "align_content": null,
            "align_items": null,
            "align_self": null,
            "border": null,
            "bottom": null,
            "display": null,
            "flex": null,
            "flex_flow": null,
            "grid_area": null,
            "grid_auto_columns": null,
            "grid_auto_flow": null,
            "grid_auto_rows": null,
            "grid_column": null,
            "grid_gap": null,
            "grid_row": null,
            "grid_template_areas": null,
            "grid_template_columns": null,
            "grid_template_rows": null,
            "height": null,
            "justify_content": null,
            "justify_items": null,
            "left": null,
            "margin": null,
            "max_height": null,
            "max_width": null,
            "min_height": null,
            "min_width": null,
            "object_fit": null,
            "object_position": null,
            "order": null,
            "overflow": null,
            "overflow_x": null,
            "overflow_y": null,
            "padding": null,
            "right": null,
            "top": null,
            "visibility": null,
            "width": null
          }
        },
        "1bf74c9f61504fb4902c87e1ad1f5354": {
          "model_module": "@jupyter-widgets/base",
          "model_name": "LayoutModel",
          "model_module_version": "1.2.0",
          "state": {
            "_model_module": "@jupyter-widgets/base",
            "_model_module_version": "1.2.0",
            "_model_name": "LayoutModel",
            "_view_count": null,
            "_view_module": "@jupyter-widgets/base",
            "_view_module_version": "1.2.0",
            "_view_name": "LayoutView",
            "align_content": null,
            "align_items": null,
            "align_self": null,
            "border": null,
            "bottom": null,
            "display": null,
            "flex": null,
            "flex_flow": null,
            "grid_area": null,
            "grid_auto_columns": null,
            "grid_auto_flow": null,
            "grid_auto_rows": null,
            "grid_column": null,
            "grid_gap": null,
            "grid_row": null,
            "grid_template_areas": null,
            "grid_template_columns": null,
            "grid_template_rows": null,
            "height": null,
            "justify_content": null,
            "justify_items": null,
            "left": null,
            "margin": null,
            "max_height": null,
            "max_width": null,
            "min_height": null,
            "min_width": null,
            "object_fit": null,
            "object_position": null,
            "order": null,
            "overflow": null,
            "overflow_x": null,
            "overflow_y": null,
            "padding": null,
            "right": null,
            "top": null,
            "visibility": null,
            "width": null
          }
        },
        "072b43b58556410193c886828cf387ae": {
          "model_module": "@jupyter-widgets/controls",
          "model_name": "DescriptionStyleModel",
          "model_module_version": "1.5.0",
          "state": {
            "_model_module": "@jupyter-widgets/controls",
            "_model_module_version": "1.5.0",
            "_model_name": "DescriptionStyleModel",
            "_view_count": null,
            "_view_module": "@jupyter-widgets/base",
            "_view_module_version": "1.2.0",
            "_view_name": "StyleView",
            "description_width": ""
          }
        },
        "af241f22d8e24687b7764fc06ebbbeac": {
          "model_module": "@jupyter-widgets/base",
          "model_name": "LayoutModel",
          "model_module_version": "1.2.0",
          "state": {
            "_model_module": "@jupyter-widgets/base",
            "_model_module_version": "1.2.0",
            "_model_name": "LayoutModel",
            "_view_count": null,
            "_view_module": "@jupyter-widgets/base",
            "_view_module_version": "1.2.0",
            "_view_name": "LayoutView",
            "align_content": null,
            "align_items": null,
            "align_self": null,
            "border": null,
            "bottom": null,
            "display": null,
            "flex": null,
            "flex_flow": null,
            "grid_area": null,
            "grid_auto_columns": null,
            "grid_auto_flow": null,
            "grid_auto_rows": null,
            "grid_column": null,
            "grid_gap": null,
            "grid_row": null,
            "grid_template_areas": null,
            "grid_template_columns": null,
            "grid_template_rows": null,
            "height": null,
            "justify_content": null,
            "justify_items": null,
            "left": null,
            "margin": null,
            "max_height": null,
            "max_width": null,
            "min_height": null,
            "min_width": null,
            "object_fit": null,
            "object_position": null,
            "order": null,
            "overflow": null,
            "overflow_x": null,
            "overflow_y": null,
            "padding": null,
            "right": null,
            "top": null,
            "visibility": null,
            "width": null
          }
        },
        "552ef8134f014718a4d4c97362640a4a": {
          "model_module": "@jupyter-widgets/controls",
          "model_name": "DescriptionStyleModel",
          "model_module_version": "1.5.0",
          "state": {
            "_model_module": "@jupyter-widgets/controls",
            "_model_module_version": "1.5.0",
            "_model_name": "DescriptionStyleModel",
            "_view_count": null,
            "_view_module": "@jupyter-widgets/base",
            "_view_module_version": "1.2.0",
            "_view_name": "StyleView",
            "description_width": ""
          }
        },
        "91ef4d8bd2bc46e897e85a3a3a1e58b5": {
          "model_module": "@jupyter-widgets/base",
          "model_name": "LayoutModel",
          "model_module_version": "1.2.0",
          "state": {
            "_model_module": "@jupyter-widgets/base",
            "_model_module_version": "1.2.0",
            "_model_name": "LayoutModel",
            "_view_count": null,
            "_view_module": "@jupyter-widgets/base",
            "_view_module_version": "1.2.0",
            "_view_name": "LayoutView",
            "align_content": null,
            "align_items": null,
            "align_self": null,
            "border": null,
            "bottom": null,
            "display": null,
            "flex": null,
            "flex_flow": null,
            "grid_area": null,
            "grid_auto_columns": null,
            "grid_auto_flow": null,
            "grid_auto_rows": null,
            "grid_column": null,
            "grid_gap": null,
            "grid_row": null,
            "grid_template_areas": null,
            "grid_template_columns": null,
            "grid_template_rows": null,
            "height": null,
            "justify_content": null,
            "justify_items": null,
            "left": null,
            "margin": null,
            "max_height": null,
            "max_width": null,
            "min_height": null,
            "min_width": null,
            "object_fit": null,
            "object_position": null,
            "order": null,
            "overflow": null,
            "overflow_x": null,
            "overflow_y": null,
            "padding": null,
            "right": null,
            "top": null,
            "visibility": null,
            "width": null
          }
        },
        "2141e457312d480aa24bad02fdeb7ca6": {
          "model_module": "@jupyter-widgets/controls",
          "model_name": "DescriptionStyleModel",
          "model_module_version": "1.5.0",
          "state": {
            "_model_module": "@jupyter-widgets/controls",
            "_model_module_version": "1.5.0",
            "_model_name": "DescriptionStyleModel",
            "_view_count": null,
            "_view_module": "@jupyter-widgets/base",
            "_view_module_version": "1.2.0",
            "_view_name": "StyleView",
            "description_width": ""
          }
        },
        "70f507ce1ec04315b89c2c126e765674": {
          "model_module": "@jupyter-widgets/base",
          "model_name": "LayoutModel",
          "model_module_version": "1.2.0",
          "state": {
            "_model_module": "@jupyter-widgets/base",
            "_model_module_version": "1.2.0",
            "_model_name": "LayoutModel",
            "_view_count": null,
            "_view_module": "@jupyter-widgets/base",
            "_view_module_version": "1.2.0",
            "_view_name": "LayoutView",
            "align_content": null,
            "align_items": null,
            "align_self": null,
            "border": null,
            "bottom": null,
            "display": null,
            "flex": null,
            "flex_flow": null,
            "grid_area": null,
            "grid_auto_columns": null,
            "grid_auto_flow": null,
            "grid_auto_rows": null,
            "grid_column": null,
            "grid_gap": null,
            "grid_row": null,
            "grid_template_areas": null,
            "grid_template_columns": null,
            "grid_template_rows": null,
            "height": null,
            "justify_content": null,
            "justify_items": null,
            "left": null,
            "margin": null,
            "max_height": null,
            "max_width": null,
            "min_height": null,
            "min_width": null,
            "object_fit": null,
            "object_position": null,
            "order": null,
            "overflow": null,
            "overflow_x": null,
            "overflow_y": null,
            "padding": null,
            "right": null,
            "top": null,
            "visibility": null,
            "width": null
          }
        },
        "2e2bb40a9a0a40a993ef46c987b60a41": {
          "model_module": "@jupyter-widgets/controls",
          "model_name": "SliderStyleModel",
          "model_module_version": "1.5.0",
          "state": {
            "_model_module": "@jupyter-widgets/controls",
            "_model_module_version": "1.5.0",
            "_model_name": "SliderStyleModel",
            "_view_count": null,
            "_view_module": "@jupyter-widgets/base",
            "_view_module_version": "1.2.0",
            "_view_name": "StyleView",
            "description_width": "",
            "handle_color": null
          }
        },
        "22547927e0534c069d7f547057b3e44c": {
          "model_module": "@jupyter-widgets/base",
          "model_name": "LayoutModel",
          "model_module_version": "1.2.0",
          "state": {
            "_model_module": "@jupyter-widgets/base",
            "_model_module_version": "1.2.0",
            "_model_name": "LayoutModel",
            "_view_count": null,
            "_view_module": "@jupyter-widgets/base",
            "_view_module_version": "1.2.0",
            "_view_name": "LayoutView",
            "align_content": null,
            "align_items": null,
            "align_self": null,
            "border": null,
            "bottom": null,
            "display": null,
            "flex": null,
            "flex_flow": null,
            "grid_area": null,
            "grid_auto_columns": null,
            "grid_auto_flow": null,
            "grid_auto_rows": null,
            "grid_column": null,
            "grid_gap": null,
            "grid_row": null,
            "grid_template_areas": null,
            "grid_template_columns": null,
            "grid_template_rows": null,
            "height": null,
            "justify_content": null,
            "justify_items": null,
            "left": null,
            "margin": null,
            "max_height": null,
            "max_width": null,
            "min_height": null,
            "min_width": null,
            "object_fit": null,
            "object_position": null,
            "order": null,
            "overflow": null,
            "overflow_x": null,
            "overflow_y": null,
            "padding": null,
            "right": null,
            "top": null,
            "visibility": null,
            "width": null
          }
        },
        "1e4020083720445ca2025016c209d428": {
          "model_module": "@jupyter-widgets/controls",
          "model_name": "SliderStyleModel",
          "model_module_version": "1.5.0",
          "state": {
            "_model_module": "@jupyter-widgets/controls",
            "_model_module_version": "1.5.0",
            "_model_name": "SliderStyleModel",
            "_view_count": null,
            "_view_module": "@jupyter-widgets/base",
            "_view_module_version": "1.2.0",
            "_view_name": "StyleView",
            "description_width": "",
            "handle_color": null
          }
        },
        "5daf6dd2306b4b8e9d89927af38429d1": {
          "model_module": "@jupyter-widgets/base",
          "model_name": "LayoutModel",
          "model_module_version": "1.2.0",
          "state": {
            "_model_module": "@jupyter-widgets/base",
            "_model_module_version": "1.2.0",
            "_model_name": "LayoutModel",
            "_view_count": null,
            "_view_module": "@jupyter-widgets/base",
            "_view_module_version": "1.2.0",
            "_view_name": "LayoutView",
            "align_content": null,
            "align_items": null,
            "align_self": null,
            "border": null,
            "bottom": null,
            "display": null,
            "flex": null,
            "flex_flow": null,
            "grid_area": null,
            "grid_auto_columns": null,
            "grid_auto_flow": null,
            "grid_auto_rows": null,
            "grid_column": null,
            "grid_gap": null,
            "grid_row": null,
            "grid_template_areas": null,
            "grid_template_columns": null,
            "grid_template_rows": null,
            "height": null,
            "justify_content": null,
            "justify_items": null,
            "left": null,
            "margin": null,
            "max_height": null,
            "max_width": null,
            "min_height": null,
            "min_width": null,
            "object_fit": null,
            "object_position": null,
            "order": null,
            "overflow": null,
            "overflow_x": null,
            "overflow_y": null,
            "padding": null,
            "right": null,
            "top": null,
            "visibility": null,
            "width": null
          }
        }
      }
    }
  },
  "cells": [
    {
      "cell_type": "markdown",
      "metadata": {
        "id": "view-in-github",
        "colab_type": "text"
      },
      "source": [
        "<a href=\"https://colab.research.google.com/github/gustavococoo/Python-3/blob/main/%C3%A1rvore_de_decis%C3%A3o.ipynb\" target=\"_parent\"><img src=\"https://colab.research.google.com/assets/colab-badge.svg\" alt=\"Open In Colab\"/></a>"
      ]
    },
    {
      "cell_type": "code",
      "metadata": {
        "id": "9Y9SXB6ajRoG"
      },
      "source": [
        "# Importando as bibliotecas necessárias:\n",
        "import pandas as pd\n",
        "from sklearn.tree import DecisionTreeClassifier,export_graphviz\n",
        "from sklearn.model_selection import train_test_split\n",
        "from sklearn import metrics\n",
        "import numpy as np"
      ],
      "execution_count": 1,
      "outputs": []
    },
    {
      "cell_type": "code",
      "metadata": {
        "id": "dwtGurkNj5Qw",
        "colab": {
          "base_uri": "https://localhost:8080/",
          "height": 206
        },
        "outputId": "11cb7314-35d4-41bc-b6a7-82eb4f9c39d8"
      },
      "source": [
        "# Carregando a base de dados:\n",
        "df_diabetes = pd.read_csv('/content/diabetes.csv', sep = ';')\n",
        "df_diabetes.head()"
      ],
      "execution_count": 22,
      "outputs": [
        {
          "output_type": "execute_result",
          "data": {
            "text/plain": [
              "   Pregnancies  Glucose  BloodPressure  SkinThickness  Insulin   BMI  \\\n",
              "0            6      148             72             35        0  33.6   \n",
              "1            1       85             66             29        0  26.6   \n",
              "2            8      183             64              0        0  23.3   \n",
              "3            1       89             66             23       94  28.1   \n",
              "4            0      137             40             35      168  43.1   \n",
              "\n",
              "   DiabetesPedigreeFunction  Age  Outcome  \n",
              "0                     0.627   50        1  \n",
              "1                     0.351   31        0  \n",
              "2                     0.672   32        1  \n",
              "3                     0.167   21        0  \n",
              "4                     2.288   33        1  "
            ],
            "text/html": [
              "\n",
              "  <div id=\"df-0e00aa70-2076-4b34-a239-a862fd01aeb4\">\n",
              "    <div class=\"colab-df-container\">\n",
              "      <div>\n",
              "<style scoped>\n",
              "    .dataframe tbody tr th:only-of-type {\n",
              "        vertical-align: middle;\n",
              "    }\n",
              "\n",
              "    .dataframe tbody tr th {\n",
              "        vertical-align: top;\n",
              "    }\n",
              "\n",
              "    .dataframe thead th {\n",
              "        text-align: right;\n",
              "    }\n",
              "</style>\n",
              "<table border=\"1\" class=\"dataframe\">\n",
              "  <thead>\n",
              "    <tr style=\"text-align: right;\">\n",
              "      <th></th>\n",
              "      <th>Pregnancies</th>\n",
              "      <th>Glucose</th>\n",
              "      <th>BloodPressure</th>\n",
              "      <th>SkinThickness</th>\n",
              "      <th>Insulin</th>\n",
              "      <th>BMI</th>\n",
              "      <th>DiabetesPedigreeFunction</th>\n",
              "      <th>Age</th>\n",
              "      <th>Outcome</th>\n",
              "    </tr>\n",
              "  </thead>\n",
              "  <tbody>\n",
              "    <tr>\n",
              "      <th>0</th>\n",
              "      <td>6</td>\n",
              "      <td>148</td>\n",
              "      <td>72</td>\n",
              "      <td>35</td>\n",
              "      <td>0</td>\n",
              "      <td>33.6</td>\n",
              "      <td>0.627</td>\n",
              "      <td>50</td>\n",
              "      <td>1</td>\n",
              "    </tr>\n",
              "    <tr>\n",
              "      <th>1</th>\n",
              "      <td>1</td>\n",
              "      <td>85</td>\n",
              "      <td>66</td>\n",
              "      <td>29</td>\n",
              "      <td>0</td>\n",
              "      <td>26.6</td>\n",
              "      <td>0.351</td>\n",
              "      <td>31</td>\n",
              "      <td>0</td>\n",
              "    </tr>\n",
              "    <tr>\n",
              "      <th>2</th>\n",
              "      <td>8</td>\n",
              "      <td>183</td>\n",
              "      <td>64</td>\n",
              "      <td>0</td>\n",
              "      <td>0</td>\n",
              "      <td>23.3</td>\n",
              "      <td>0.672</td>\n",
              "      <td>32</td>\n",
              "      <td>1</td>\n",
              "    </tr>\n",
              "    <tr>\n",
              "      <th>3</th>\n",
              "      <td>1</td>\n",
              "      <td>89</td>\n",
              "      <td>66</td>\n",
              "      <td>23</td>\n",
              "      <td>94</td>\n",
              "      <td>28.1</td>\n",
              "      <td>0.167</td>\n",
              "      <td>21</td>\n",
              "      <td>0</td>\n",
              "    </tr>\n",
              "    <tr>\n",
              "      <th>4</th>\n",
              "      <td>0</td>\n",
              "      <td>137</td>\n",
              "      <td>40</td>\n",
              "      <td>35</td>\n",
              "      <td>168</td>\n",
              "      <td>43.1</td>\n",
              "      <td>2.288</td>\n",
              "      <td>33</td>\n",
              "      <td>1</td>\n",
              "    </tr>\n",
              "  </tbody>\n",
              "</table>\n",
              "</div>\n",
              "      <button class=\"colab-df-convert\" onclick=\"convertToInteractive('df-0e00aa70-2076-4b34-a239-a862fd01aeb4')\"\n",
              "              title=\"Convert this dataframe to an interactive table.\"\n",
              "              style=\"display:none;\">\n",
              "        \n",
              "  <svg xmlns=\"http://www.w3.org/2000/svg\" height=\"24px\"viewBox=\"0 0 24 24\"\n",
              "       width=\"24px\">\n",
              "    <path d=\"M0 0h24v24H0V0z\" fill=\"none\"/>\n",
              "    <path d=\"M18.56 5.44l.94 2.06.94-2.06 2.06-.94-2.06-.94-.94-2.06-.94 2.06-2.06.94zm-11 1L8.5 8.5l.94-2.06 2.06-.94-2.06-.94L8.5 2.5l-.94 2.06-2.06.94zm10 10l.94 2.06.94-2.06 2.06-.94-2.06-.94-.94-2.06-.94 2.06-2.06.94z\"/><path d=\"M17.41 7.96l-1.37-1.37c-.4-.4-.92-.59-1.43-.59-.52 0-1.04.2-1.43.59L10.3 9.45l-7.72 7.72c-.78.78-.78 2.05 0 2.83L4 21.41c.39.39.9.59 1.41.59.51 0 1.02-.2 1.41-.59l7.78-7.78 2.81-2.81c.8-.78.8-2.07 0-2.86zM5.41 20L4 18.59l7.72-7.72 1.47 1.35L5.41 20z\"/>\n",
              "  </svg>\n",
              "      </button>\n",
              "      \n",
              "  <style>\n",
              "    .colab-df-container {\n",
              "      display:flex;\n",
              "      flex-wrap:wrap;\n",
              "      gap: 12px;\n",
              "    }\n",
              "\n",
              "    .colab-df-convert {\n",
              "      background-color: #E8F0FE;\n",
              "      border: none;\n",
              "      border-radius: 50%;\n",
              "      cursor: pointer;\n",
              "      display: none;\n",
              "      fill: #1967D2;\n",
              "      height: 32px;\n",
              "      padding: 0 0 0 0;\n",
              "      width: 32px;\n",
              "    }\n",
              "\n",
              "    .colab-df-convert:hover {\n",
              "      background-color: #E2EBFA;\n",
              "      box-shadow: 0px 1px 2px rgba(60, 64, 67, 0.3), 0px 1px 3px 1px rgba(60, 64, 67, 0.15);\n",
              "      fill: #174EA6;\n",
              "    }\n",
              "\n",
              "    [theme=dark] .colab-df-convert {\n",
              "      background-color: #3B4455;\n",
              "      fill: #D2E3FC;\n",
              "    }\n",
              "\n",
              "    [theme=dark] .colab-df-convert:hover {\n",
              "      background-color: #434B5C;\n",
              "      box-shadow: 0px 1px 3px 1px rgba(0, 0, 0, 0.15);\n",
              "      filter: drop-shadow(0px 1px 2px rgba(0, 0, 0, 0.3));\n",
              "      fill: #FFFFFF;\n",
              "    }\n",
              "  </style>\n",
              "\n",
              "      <script>\n",
              "        const buttonEl =\n",
              "          document.querySelector('#df-0e00aa70-2076-4b34-a239-a862fd01aeb4 button.colab-df-convert');\n",
              "        buttonEl.style.display =\n",
              "          google.colab.kernel.accessAllowed ? 'block' : 'none';\n",
              "\n",
              "        async function convertToInteractive(key) {\n",
              "          const element = document.querySelector('#df-0e00aa70-2076-4b34-a239-a862fd01aeb4');\n",
              "          const dataTable =\n",
              "            await google.colab.kernel.invokeFunction('convertToInteractive',\n",
              "                                                     [key], {});\n",
              "          if (!dataTable) return;\n",
              "\n",
              "          const docLinkHtml = 'Like what you see? Visit the ' +\n",
              "            '<a target=\"_blank\" href=https://colab.research.google.com/notebooks/data_table.ipynb>data table notebook</a>'\n",
              "            + ' to learn more about interactive tables.';\n",
              "          element.innerHTML = '';\n",
              "          dataTable['output_type'] = 'display_data';\n",
              "          await google.colab.output.renderOutput(dataTable, element);\n",
              "          const docLink = document.createElement('div');\n",
              "          docLink.innerHTML = docLinkHtml;\n",
              "          element.appendChild(docLink);\n",
              "        }\n",
              "      </script>\n",
              "    </div>\n",
              "  </div>\n",
              "  "
            ]
          },
          "metadata": {},
          "execution_count": 22
        }
      ]
    },
    {
      "cell_type": "code",
      "metadata": {
        "id": "QW234t-2j7Lu"
      },
      "source": [
        "# Informaçoes sobre a base:\n",
        "df_diabetes.info()\n",
        "\n"
      ],
      "execution_count": null,
      "outputs": []
    },
    {
      "cell_type": "code",
      "metadata": {
        "id": "jf9aTk2kj-DW"
      },
      "source": [
        "X =  df_diabetes[['Glucose','BloodPressure', 'BMI',\t'DiabetesPedigreeFunction', 'Age']]\n",
        "y = df_diabetes['Outcome']\n",
        "# Dividindo os dados em treino e teste:\n",
        "X_train, X_test, y_train, y_test = train_test_split(X, y,test_size=0.3)"
      ],
      "execution_count": 44,
      "outputs": []
    },
    {
      "cell_type": "code",
      "metadata": {
        "id": "aP_IfcDlkAz5",
        "colab": {
          "base_uri": "https://localhost:8080/"
        },
        "outputId": "3dd4e6d1-5489-4349-8fa1-349c36e0e172"
      },
      "source": [
        "# Verificando as formas dos dados:\n",
        "X_train.shape,X_test.shape\n",
        "((537, 8), (231, 8))"
      ],
      "execution_count": 45,
      "outputs": [
        {
          "output_type": "execute_result",
          "data": {
            "text/plain": [
              "((537, 8), (231, 8))"
            ]
          },
          "metadata": {},
          "execution_count": 45
        }
      ]
    },
    {
      "cell_type": "code",
      "metadata": {
        "id": "LKTJ5SPbkC2o",
        "colab": {
          "base_uri": "https://localhost:8080/"
        },
        "outputId": "891793ba-52c0-4b2a-870d-be61a30d8668"
      },
      "source": [
        "y_train.shape,y_test.shape\n",
        "((537,), (231,))"
      ],
      "execution_count": 46,
      "outputs": [
        {
          "output_type": "execute_result",
          "data": {
            "text/plain": [
              "((537,), (231,))"
            ]
          },
          "metadata": {},
          "execution_count": 46
        }
      ]
    },
    {
      "cell_type": "code",
      "metadata": {
        "id": "QvUE524OkGBm"
      },
      "source": [
        "# Instânciando o objeto classificador:\n",
        "clf = DecisionTreeClassifier()"
      ],
      "execution_count": 47,
      "outputs": []
    },
    {
      "cell_type": "code",
      "metadata": {
        "id": "yI0U7EbokGoO"
      },
      "source": [
        "# Treinando o modelo de arvore de decisão:\n",
        "clf = clf.fit(X_train,y_train)"
      ],
      "execution_count": 48,
      "outputs": []
    },
    {
      "cell_type": "code",
      "metadata": {
        "id": "0oIp2KuQkJb3",
        "colab": {
          "base_uri": "https://localhost:8080/"
        },
        "outputId": "78676c5f-c8dd-49c0-a47d-8f27ea4428f3"
      },
      "source": [
        "# Verificando as features mais importantes para o modelo treinado:\n",
        "clf.feature_importances_\n"
      ],
      "execution_count": 49,
      "outputs": [
        {
          "output_type": "execute_result",
          "data": {
            "text/plain": [
              "array([0.30191775, 0.12924302, 0.16855607, 0.20830841, 0.19197475])"
            ]
          },
          "metadata": {},
          "execution_count": 49
        }
      ]
    },
    {
      "cell_type": "code",
      "metadata": {
        "id": "DvXS9xd9kMtW",
        "colab": {
          "base_uri": "https://localhost:8080/"
        },
        "outputId": "c35ada19-9f4e-4aba-8dc0-93b4428af3e5"
      },
      "source": [
        "for feature,importancia in zip(df_diabetes.columns,clf.feature_importances_):\n",
        "    print(\"{}:{}\".format(feature, importancia))\n"
      ],
      "execution_count": 50,
      "outputs": [
        {
          "output_type": "stream",
          "name": "stdout",
          "text": [
            "Pregnancies:0.3019177474780518\n",
            "Glucose:0.12924301757035772\n",
            "BloodPressure:0.16855607071646858\n",
            "SkinThickness:0.2083084141488411\n",
            "Insulin:0.19197475008628084\n"
          ]
        }
      ]
    },
    {
      "cell_type": "code",
      "metadata": {
        "id": "FZDD98TIkPon"
      },
      "source": [
        "resultado = clf.predict(X_test)\n",
        "resultado"
      ],
      "execution_count": null,
      "outputs": []
    },
    {
      "cell_type": "code",
      "metadata": {
        "id": "KNa1Xr9xkT56",
        "colab": {
          "base_uri": "https://localhost:8080/"
        },
        "outputId": "3cd64dbe-644d-4036-e7b1-e5a7404298cc"
      },
      "source": [
        "from sklearn import metrics\n",
        "print(metrics.classification_report(y_test,resultado))"
      ],
      "execution_count": 52,
      "outputs": [
        {
          "output_type": "stream",
          "name": "stdout",
          "text": [
            "              precision    recall  f1-score   support\n",
            "\n",
            "           0       0.75      0.74      0.74       153\n",
            "           1       0.50      0.51      0.51        78\n",
            "\n",
            "    accuracy                           0.66       231\n",
            "   macro avg       0.62      0.63      0.62       231\n",
            "weighted avg       0.66      0.66      0.66       231\n",
            "\n"
          ]
        }
      ]
    },
    {
      "cell_type": "code",
      "metadata": {
        "id": "oBv9VyH0kcBT"
      },
      "source": [
        "# Renderizando a árvore de forma gráfica:\n",
        "!pip install ipywidgets\n",
        "!pip3 install graphviz\n",
        "!pip3 install pydot\n",
        "import pydot\n",
        "import graphviz\n",
        "\n",
        "dot_data = export_graphviz( \n",
        "         clf, \n",
        "         out_file=None,\n",
        "         feature_names=df_diabetes.drop('Outcome',axis=1).columns,\n",
        "         class_names=['0','1'],  \n",
        "         filled=True, rounded=True,\n",
        "         proportion=True,\n",
        "         node_ids=True,\n",
        "         rotate=False,\n",
        "         label='all',\n",
        "         special_characters=True\n",
        "        )  \n",
        "graph = graphviz.Source(dot_data)  \n",
        "graph"
      ],
      "execution_count": null,
      "outputs": []
    },
    {
      "cell_type": "code",
      "metadata": {
        "id": "23yimksvkcpv",
        "colab": {
          "base_uri": "https://localhost:8080/",
          "height": 441,
          "referenced_widgets": [
            "6a1aaf2f23444125bf0e2250cb0c7f9c",
            "695658044ed3487ead8be8636b535ff4",
            "0400a5027bbf407ab794d4550de548d8",
            "6502809cda03433eaf0912c276a0aad1",
            "b74c39500f3b43e3bec0c1e357e89fb2",
            "b7b9241ca5b24fdc8d1ea0d22ea04c95",
            "3eaccc1e43e14f9ba227cb445645734b",
            "f2d5186b3be74d59a84aeaaa8e960a34",
            "1bf74c9f61504fb4902c87e1ad1f5354",
            "072b43b58556410193c886828cf387ae",
            "af241f22d8e24687b7764fc06ebbbeac",
            "552ef8134f014718a4d4c97362640a4a",
            "91ef4d8bd2bc46e897e85a3a3a1e58b5",
            "2141e457312d480aa24bad02fdeb7ca6",
            "70f507ce1ec04315b89c2c126e765674",
            "2e2bb40a9a0a40a993ef46c987b60a41",
            "22547927e0534c069d7f547057b3e44c",
            "1e4020083720445ca2025016c209d428",
            "5daf6dd2306b4b8e9d89927af38429d1"
          ]
        },
        "outputId": "9fa87d60-4371-4fc2-e26c-e1fdec36fb93"
      },
      "source": [
        "# Renderizando a árvore de forma interativa:\n",
        "from ipywidgets import interactive\n",
        "from IPython.display import SVG,display\n",
        "from graphviz import Source\n",
        "\n",
        "# feature matrix\n",
        "X,y = df_diabetes.drop('Outcome',axis=1),df_diabetes['Outcome']\n",
        "\n",
        "# feature labels\n",
        "features_label = df_diabetes.drop('Outcome',axis=1).columns\n",
        "\n",
        "# class label\n",
        "class_label = ['0','1']\n",
        "\n",
        "\n",
        "def plot_tree(crit, split, depth, min_samples_split, min_samples_leaf=0.2):\n",
        "    estimator = DecisionTreeClassifier(\n",
        "           random_state = 0 \n",
        "          ,criterion = crit\n",
        "          ,splitter = split\n",
        "          ,max_depth = depth\n",
        "          ,min_samples_split=min_samples_split\n",
        "          ,min_samples_leaf=min_samples_leaf\n",
        "    )\n",
        "    estimator.fit(X, y)\n",
        "    graph = Source(export_graphviz(estimator\n",
        "      , out_file=None\n",
        "      , feature_names=features_label\n",
        "      , class_names=class_label\n",
        "      , impurity=True\n",
        "      , filled = True))\n",
        "    display(SVG(graph.pipe(format='svg')))\n",
        "    return estimator\n",
        "\n",
        "inter=interactive(plot_tree \n",
        "   , crit = [\"gini\", \"entropy\"]\n",
        "   , split = [\"best\", \"random\"]\n",
        "   , depth=[1,2,3,4,5,10,20,30]\n",
        "   , min_samples_split=(1,5)\n",
        "   , min_samples_leaf=(1,5))\n",
        "\n",
        "display(inter)"
      ],
      "execution_count": 18,
      "outputs": [
        {
          "output_type": "display_data",
          "data": {
            "text/plain": [
              "interactive(children=(Dropdown(description='crit', options=('gini', 'entropy'), value='gini'), Dropdown(descri…"
            ],
            "application/vnd.jupyter.widget-view+json": {
              "version_major": 2,
              "version_minor": 0,
              "model_id": "6a1aaf2f23444125bf0e2250cb0c7f9c"
            }
          },
          "metadata": {}
        }
      ]
    },
    {
      "cell_type": "code",
      "metadata": {
        "id": "0FIeRtIOkgQe"
      },
      "source": [
        "# Visualizando as fronteiras criadas pela arvore:\n",
        "from mlxtend.plotting import plot_decision_regions\n",
        "import matplotlib.pyplot as plt\n",
        "\n",
        "def visualize_fronteiras(msamples_split,max_depth):\n",
        "    X = df_diabetes[['Glucose','Insulin']].values\n",
        "    y = df_diabetes.Outcome.values\n",
        "    clf = DecisionTreeClassifier(min_samples_split=msamples_split,max_depth=max_depth)\n",
        "    tree = clf.fit(X, y)\n",
        "\n",
        "    plt.figure(figsize=(16,9))\n",
        "    plot_decision_regions(X, y, clf=tree, legend=2)\n",
        "\n",
        "    plt.xlabel('Glucose')\n",
        "    plt.ylabel('Insulin')\n",
        "    plt.title('Decision Tree')\n",
        "    plt.show()\n",
        "\n",
        "# Chamando a função criada anteriormente:\n",
        "\n",
        "visualize_fronteiras(2,max_depth=30)"
      ],
      "execution_count": null,
      "outputs": []
    },
    {
      "cell_type": "code",
      "metadata": {
        "id": "9OPCCqp5kjC2"
      },
      "source": [
        "# Chamando a função criada anteriormente:\n",
        "\n",
        "visualize_fronteiras(10,max_depth=8)\n"
      ],
      "execution_count": null,
      "outputs": []
    },
    {
      "cell_type": "code",
      "metadata": {
        "id": "WATg_F5XklBO"
      },
      "source": [
        "# Navegando na estrutura da arvore de decisão:\n",
        "estimator = DecisionTreeClassifier(max_depth=3,min_samples_split=2,min_samples_leaf=2)\n",
        "estimator.fit(X, y)\n",
        "DecisionTreeClassifier(class_weight=None, criterion='gini', max_depth=3,\n",
        "                       max_features=None, max_leaf_nodes=None,\n",
        "                       min_impurity_decrease=0.0, min_impurity_split=None,\n",
        "                       min_samples_leaf=2, min_samples_split=2,\n",
        "                       min_weight_fraction_leaf=0.0, presort=False,\n",
        "                       random_state=None, splitter='best')\n",
        "n_nodes = estimator.tree_.node_count\n",
        "children_left = estimator.tree_.children_left\n",
        "children_right = estimator.tree_.children_right\n",
        "feature = estimator.tree_.feature\n",
        "threshold = estimator.tree_.threshold\n",
        "\n",
        "print(\"Número de nós: {}\".format(n_nodes))"
      ],
      "execution_count": null,
      "outputs": []
    },
    {
      "cell_type": "code",
      "metadata": {
        "id": "7R6QyYBJkomn"
      },
      "source": [
        "node_depth = np.zeros(shape=n_nodes, dtype=np.int64)\n",
        "is_leaves = np.zeros(shape=n_nodes, dtype=bool)\n",
        "stack = [(0, -1)]\n",
        "while len(stack) > 0:\n",
        "    node_id, parent_depth = stack.pop()\n",
        "    node_depth[node_id] = parent_depth + 1\n",
        "\n",
        "    if (children_left[node_id] != children_right[node_id]):\n",
        "        stack.append((children_left[node_id], parent_depth + 1))\n",
        "        stack.append((children_right[node_id], parent_depth + 1))\n",
        "    else:\n",
        "        is_leaves[node_id] = True\n",
        "\n",
        "print(\"\\nA arvore binária tem %s nós e a seguinte estrutura: \\n\"\n",
        "      % n_nodes)\n",
        "for i in range(n_nodes):\n",
        "    if is_leaves[i]:\n",
        "        print(\"%snó=%s (nó folha).\" % (node_depth[i] * \"\\t\", i))\n",
        "    else:\n",
        "        print(\"%snó=%s (nó teste): vai para o nó %s se o valor do atributo %s <= %s \\n se não, vai para o \"\n",
        "              \"nó %s.\"\n",
        "              % (node_depth[i] * \"\\t\",\n",
        "                 i,\n",
        "                 children_left[i],\n",
        "                 df_diabetes.columns[feature[i]],\n",
        "                 threshold[i],\n",
        "                 children_right[i],\n",
        "                 ))"
      ],
      "execution_count": null,
      "outputs": []
    }
  ]
}